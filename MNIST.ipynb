{
 "cells": [
  {
   "cell_type": "code",
   "execution_count": 3,
   "id": "31b6cccf-78e4-41ed-98f9-c6cc121442f7",
   "metadata": {},
   "outputs": [],
   "source": [
    "import pandas as pd\n",
    "import numpy as np\n",
    "import keras as kr\n",
    "from keras.layers import Dense\n",
    "import matplotlib.pyplot as plt"
   ]
  },
  {
   "cell_type": "code",
   "execution_count": 4,
   "id": "8f8fdfea-0df3-4ccb-8302-987b18c5a357",
   "metadata": {},
   "outputs": [
    {
     "data": {
      "text/plain": [
       "'2.10.0'"
      ]
     },
     "execution_count": 4,
     "metadata": {},
     "output_type": "execute_result"
    }
   ],
   "source": [
    "kr.__version__"
   ]
  },
  {
   "cell_type": "code",
   "execution_count": 4,
   "id": "766f9d3e-d0e5-4e39-9fed-f569f9ba8bb4",
   "metadata": {},
   "outputs": [
    {
     "data": {
      "text/plain": [
       "'2.2.3'"
      ]
     },
     "execution_count": 4,
     "metadata": {},
     "output_type": "execute_result"
    }
   ],
   "source": [
    "pd.__version__"
   ]
  },
  {
   "cell_type": "code",
   "execution_count": 5,
   "id": "629982a4-36b7-49b6-a856-878a3d70741c",
   "metadata": {},
   "outputs": [
    {
     "data": {
      "text/plain": [
       "'1.26.4'"
      ]
     },
     "execution_count": 5,
     "metadata": {},
     "output_type": "execute_result"
    }
   ],
   "source": [
    "np.__version__"
   ]
  },
  {
   "cell_type": "code",
   "execution_count": 6,
   "id": "ca4f6cc8-bcd2-4163-bb90-d2da4a985cd0",
   "metadata": {},
   "outputs": [
    {
     "data": {
      "text/html": [
       "<div>\n",
       "<style scoped>\n",
       "    .dataframe tbody tr th:only-of-type {\n",
       "        vertical-align: middle;\n",
       "    }\n",
       "\n",
       "    .dataframe tbody tr th {\n",
       "        vertical-align: top;\n",
       "    }\n",
       "\n",
       "    .dataframe thead th {\n",
       "        text-align: right;\n",
       "    }\n",
       "</style>\n",
       "<table border=\"1\" class=\"dataframe\">\n",
       "  <thead>\n",
       "    <tr style=\"text-align: right;\">\n",
       "      <th></th>\n",
       "      <th>label</th>\n",
       "      <th>pixel0</th>\n",
       "      <th>pixel1</th>\n",
       "      <th>pixel2</th>\n",
       "      <th>pixel3</th>\n",
       "      <th>pixel4</th>\n",
       "      <th>pixel5</th>\n",
       "      <th>pixel6</th>\n",
       "      <th>pixel7</th>\n",
       "      <th>pixel8</th>\n",
       "      <th>...</th>\n",
       "      <th>pixel774</th>\n",
       "      <th>pixel775</th>\n",
       "      <th>pixel776</th>\n",
       "      <th>pixel777</th>\n",
       "      <th>pixel778</th>\n",
       "      <th>pixel779</th>\n",
       "      <th>pixel780</th>\n",
       "      <th>pixel781</th>\n",
       "      <th>pixel782</th>\n",
       "      <th>pixel783</th>\n",
       "    </tr>\n",
       "  </thead>\n",
       "  <tbody>\n",
       "    <tr>\n",
       "      <th>0</th>\n",
       "      <td>1</td>\n",
       "      <td>0</td>\n",
       "      <td>0</td>\n",
       "      <td>0</td>\n",
       "      <td>0</td>\n",
       "      <td>0</td>\n",
       "      <td>0</td>\n",
       "      <td>0</td>\n",
       "      <td>0</td>\n",
       "      <td>0</td>\n",
       "      <td>...</td>\n",
       "      <td>0</td>\n",
       "      <td>0</td>\n",
       "      <td>0</td>\n",
       "      <td>0</td>\n",
       "      <td>0</td>\n",
       "      <td>0</td>\n",
       "      <td>0</td>\n",
       "      <td>0</td>\n",
       "      <td>0</td>\n",
       "      <td>0</td>\n",
       "    </tr>\n",
       "    <tr>\n",
       "      <th>1</th>\n",
       "      <td>0</td>\n",
       "      <td>0</td>\n",
       "      <td>0</td>\n",
       "      <td>0</td>\n",
       "      <td>0</td>\n",
       "      <td>0</td>\n",
       "      <td>0</td>\n",
       "      <td>0</td>\n",
       "      <td>0</td>\n",
       "      <td>0</td>\n",
       "      <td>...</td>\n",
       "      <td>0</td>\n",
       "      <td>0</td>\n",
       "      <td>0</td>\n",
       "      <td>0</td>\n",
       "      <td>0</td>\n",
       "      <td>0</td>\n",
       "      <td>0</td>\n",
       "      <td>0</td>\n",
       "      <td>0</td>\n",
       "      <td>0</td>\n",
       "    </tr>\n",
       "  </tbody>\n",
       "</table>\n",
       "<p>2 rows × 785 columns</p>\n",
       "</div>"
      ],
      "text/plain": [
       "   label  pixel0  pixel1  pixel2  pixel3  pixel4  pixel5  pixel6  pixel7  \\\n",
       "0      1       0       0       0       0       0       0       0       0   \n",
       "1      0       0       0       0       0       0       0       0       0   \n",
       "\n",
       "   pixel8  ...  pixel774  pixel775  pixel776  pixel777  pixel778  pixel779  \\\n",
       "0       0  ...         0         0         0         0         0         0   \n",
       "1       0  ...         0         0         0         0         0         0   \n",
       "\n",
       "   pixel780  pixel781  pixel782  pixel783  \n",
       "0         0         0         0         0  \n",
       "1         0         0         0         0  \n",
       "\n",
       "[2 rows x 785 columns]"
      ]
     },
     "execution_count": 6,
     "metadata": {},
     "output_type": "execute_result"
    }
   ],
   "source": [
    "train = pd.read_csv('./MNIST/train.csv')\n",
    "train.head(2)"
   ]
  },
  {
   "cell_type": "code",
   "execution_count": 8,
   "id": "3b60682c-d1dd-413d-958e-80b3213d81ff",
   "metadata": {},
   "outputs": [
    {
     "data": {
      "text/html": [
       "<div>\n",
       "<style scoped>\n",
       "    .dataframe tbody tr th:only-of-type {\n",
       "        vertical-align: middle;\n",
       "    }\n",
       "\n",
       "    .dataframe tbody tr th {\n",
       "        vertical-align: top;\n",
       "    }\n",
       "\n",
       "    .dataframe thead th {\n",
       "        text-align: right;\n",
       "    }\n",
       "</style>\n",
       "<table border=\"1\" class=\"dataframe\">\n",
       "  <thead>\n",
       "    <tr style=\"text-align: right;\">\n",
       "      <th></th>\n",
       "      <th>pixel0</th>\n",
       "      <th>pixel1</th>\n",
       "      <th>pixel2</th>\n",
       "      <th>pixel3</th>\n",
       "      <th>pixel4</th>\n",
       "      <th>pixel5</th>\n",
       "      <th>pixel6</th>\n",
       "      <th>pixel7</th>\n",
       "      <th>pixel8</th>\n",
       "      <th>pixel9</th>\n",
       "      <th>...</th>\n",
       "      <th>pixel774</th>\n",
       "      <th>pixel775</th>\n",
       "      <th>pixel776</th>\n",
       "      <th>pixel777</th>\n",
       "      <th>pixel778</th>\n",
       "      <th>pixel779</th>\n",
       "      <th>pixel780</th>\n",
       "      <th>pixel781</th>\n",
       "      <th>pixel782</th>\n",
       "      <th>pixel783</th>\n",
       "    </tr>\n",
       "  </thead>\n",
       "  <tbody>\n",
       "    <tr>\n",
       "      <th>0</th>\n",
       "      <td>0</td>\n",
       "      <td>0</td>\n",
       "      <td>0</td>\n",
       "      <td>0</td>\n",
       "      <td>0</td>\n",
       "      <td>0</td>\n",
       "      <td>0</td>\n",
       "      <td>0</td>\n",
       "      <td>0</td>\n",
       "      <td>0</td>\n",
       "      <td>...</td>\n",
       "      <td>0</td>\n",
       "      <td>0</td>\n",
       "      <td>0</td>\n",
       "      <td>0</td>\n",
       "      <td>0</td>\n",
       "      <td>0</td>\n",
       "      <td>0</td>\n",
       "      <td>0</td>\n",
       "      <td>0</td>\n",
       "      <td>0</td>\n",
       "    </tr>\n",
       "    <tr>\n",
       "      <th>1</th>\n",
       "      <td>0</td>\n",
       "      <td>0</td>\n",
       "      <td>0</td>\n",
       "      <td>0</td>\n",
       "      <td>0</td>\n",
       "      <td>0</td>\n",
       "      <td>0</td>\n",
       "      <td>0</td>\n",
       "      <td>0</td>\n",
       "      <td>0</td>\n",
       "      <td>...</td>\n",
       "      <td>0</td>\n",
       "      <td>0</td>\n",
       "      <td>0</td>\n",
       "      <td>0</td>\n",
       "      <td>0</td>\n",
       "      <td>0</td>\n",
       "      <td>0</td>\n",
       "      <td>0</td>\n",
       "      <td>0</td>\n",
       "      <td>0</td>\n",
       "    </tr>\n",
       "  </tbody>\n",
       "</table>\n",
       "<p>2 rows × 784 columns</p>\n",
       "</div>"
      ],
      "text/plain": [
       "   pixel0  pixel1  pixel2  pixel3  pixel4  pixel5  pixel6  pixel7  pixel8  \\\n",
       "0       0       0       0       0       0       0       0       0       0   \n",
       "1       0       0       0       0       0       0       0       0       0   \n",
       "\n",
       "   pixel9  ...  pixel774  pixel775  pixel776  pixel777  pixel778  pixel779  \\\n",
       "0       0  ...         0         0         0         0         0         0   \n",
       "1       0  ...         0         0         0         0         0         0   \n",
       "\n",
       "   pixel780  pixel781  pixel782  pixel783  \n",
       "0         0         0         0         0  \n",
       "1         0         0         0         0  \n",
       "\n",
       "[2 rows x 784 columns]"
      ]
     },
     "execution_count": 8,
     "metadata": {},
     "output_type": "execute_result"
    }
   ],
   "source": [
    "test = pd.read_csv('./MNIST/test.csv')\n",
    "test.head(2)"
   ]
  },
  {
   "cell_type": "code",
   "execution_count": 25,
   "id": "c1a5c067-5e74-4bd2-b218-0f0ac3edffee",
   "metadata": {},
   "outputs": [
    {
     "data": {
      "text/html": [
       "<div>\n",
       "<style scoped>\n",
       "    .dataframe tbody tr th:only-of-type {\n",
       "        vertical-align: middle;\n",
       "    }\n",
       "\n",
       "    .dataframe tbody tr th {\n",
       "        vertical-align: top;\n",
       "    }\n",
       "\n",
       "    .dataframe thead th {\n",
       "        text-align: right;\n",
       "    }\n",
       "</style>\n",
       "<table border=\"1\" class=\"dataframe\">\n",
       "  <thead>\n",
       "    <tr style=\"text-align: right;\">\n",
       "      <th></th>\n",
       "      <th>pixel1</th>\n",
       "      <th>pixel2</th>\n",
       "      <th>pixel3</th>\n",
       "      <th>pixel4</th>\n",
       "      <th>pixel5</th>\n",
       "      <th>pixel6</th>\n",
       "      <th>pixel7</th>\n",
       "    </tr>\n",
       "  </thead>\n",
       "  <tbody>\n",
       "    <tr>\n",
       "      <th>0</th>\n",
       "      <td>0</td>\n",
       "      <td>0</td>\n",
       "      <td>0</td>\n",
       "      <td>0</td>\n",
       "      <td>0</td>\n",
       "      <td>0</td>\n",
       "      <td>0</td>\n",
       "    </tr>\n",
       "    <tr>\n",
       "      <th>1</th>\n",
       "      <td>0</td>\n",
       "      <td>0</td>\n",
       "      <td>0</td>\n",
       "      <td>0</td>\n",
       "      <td>0</td>\n",
       "      <td>0</td>\n",
       "      <td>0</td>\n",
       "    </tr>\n",
       "  </tbody>\n",
       "</table>\n",
       "</div>"
      ],
      "text/plain": [
       "   pixel1  pixel2  pixel3  pixel4  pixel5  pixel6  pixel7\n",
       "0       0       0       0       0       0       0       0\n",
       "1       0       0       0       0       0       0       0"
      ]
     },
     "execution_count": 25,
     "metadata": {},
     "output_type": "execute_result"
    }
   ],
   "source": [
    "X_train = train.copy()\n",
    "Y_train = X_train.pop('label')\n",
    "X_train.iloc[0:2,1:8]"
   ]
  },
  {
   "cell_type": "code",
   "execution_count": 10,
   "id": "32e53a46-f63f-48c9-9e56-725c327b51e9",
   "metadata": {},
   "outputs": [],
   "source": [
    "def print_image(i) : \n",
    "        \n",
    "    arr = X_train.iloc[i].values.reshape(28,28)\n",
    "    \n",
    "    arr.shape\n",
    "    print(f\"The labels is , {Y_train[i]}\")\n",
    "    plt.imshow(arr,cmap = 'gray')"
   ]
  },
  {
   "cell_type": "code",
   "execution_count": 11,
   "id": "092ed057-4854-446b-b748-26f02ff3275d",
   "metadata": {},
   "outputs": [
    {
     "name": "stdout",
     "output_type": "stream",
     "text": [
      "The labels is , 3\n"
     ]
    },
    {
     "data": {
      "image/png": "[encoded data removed]",
      "text/plain": [
       "<Figure size 640x480 with 1 Axes>"
      ]
     },
     "metadata": {},
     "output_type": "display_data"
    }
   ],
   "source": [
    "print_image(9)"
   ]
  },
  {
   "cell_type": "code",
   "execution_count": 14,
   "id": "7a0759d7-0908-4059-be73-2732b4d0aee9",
   "metadata": {},
   "outputs": [
    {
     "data": {
      "text/plain": [
       "(42000, 784)"
      ]
     },
     "execution_count": 14,
     "metadata": {},
     "output_type": "execute_result"
    }
   ],
   "source": [
    "X_train.shape"
   ]
  },
  {
   "cell_type": "code",
   "execution_count": 8,
   "id": "c98b5d7c-77b2-4cc3-ae5e-a263c3f18979",
   "metadata": {},
   "outputs": [
    {
     "data": {
      "text/plain": [
       "[0, 1, 2, 3, 4, 5, 6, 7, 8, 9]"
      ]
     },
     "execution_count": 8,
     "metadata": {},
     "output_type": "execute_result"
    }
   ],
   "source": [
    "list(set(Y_train))\n"
   ]
  },
  {
   "cell_type": "markdown",
   "id": "3d6086a8-e9de-4f7a-b885-e5f0e6214524",
   "metadata": {},
   "source": [
    "## Model Building"
   ]
  },
  {
   "cell_type": "code",
   "execution_count": 13,
   "id": "539fee8f-fb86-449a-8d9f-713550d36e5b",
   "metadata": {},
   "outputs": [],
   "source": [
    "#Sequwntial \n",
    "#layers : list of layers with input dimenstion in first only and furthere number of neurons and activation function and softmax in end if logistic regression\n",
    "#Compile : Optimixer , meetric, epochs,batch size "
   ]
  },
  {
   "cell_type": "code",
   "execution_count": 9,
   "id": "47e9a874-fde4-4b61-b70e-7c183c1f76a8",
   "metadata": {},
   "outputs": [],
   "source": [
    "model = kr.Sequential()"
   ]
  },
  {
   "cell_type": "code",
   "execution_count": 19,
   "id": "8d48588a-889e-44fd-ba99-1b28261cfece",
   "metadata": {},
   "outputs": [],
   "source": [
    "model.add(Dense(input_shape = X_train.shape[-1 : ] , units = 10,activation = 'relu'))"
   ]
  },
  {
   "cell_type": "code",
   "execution_count": 20,
   "id": "505f8b63-1843-4d56-b4ad-3ba9e1aa0a00",
   "metadata": {},
   "outputs": [
    {
     "name": "stdout",
     "output_type": "stream",
     "text": [
      "Model: \"sequential\"\n",
      "_________________________________________________________________\n",
      " Layer (type)                Output Shape              Param #   \n",
      "=================================================================\n",
      " dense (Dense)               (None, 10)                7850      \n",
      "                                                                 \n",
      " dense_1 (Dense)             (None, 10)                110       \n",
      "                                                                 \n",
      " dense_2 (Dense)             (None, 10)                110       \n",
      "                                                                 \n",
      " dense_3 (Dense)             (None, 10)                110       \n",
      "                                                                 \n",
      " dense_4 (Dense)             (None, 10)                110       \n",
      "                                                                 \n",
      "=================================================================\n",
      "Total params: 8,290\n",
      "Trainable params: 8,290\n",
      "Non-trainable params: 0\n",
      "_________________________________________________________________\n"
     ]
    }
   ],
   "source": [
    "model.summary()"
   ]
  },
  {
   "cell_type": "code",
   "execution_count": 22,
   "id": "044ebc3d-fa50-4db1-be5c-b68aa4fd4eb0",
   "metadata": {},
   "outputs": [],
   "source": [
    "model.compile(metrics=['accuracy'],loss = 'binary_crossentropy',optimizer='adam')"
   ]
  },
  {
   "cell_type": "code",
   "execution_count": 30,
   "id": "01edcdff-e43a-4c30-a710-fd8aaa03b1cf",
   "metadata": {},
   "outputs": [
    {
     "name": "stdout",
     "output_type": "stream",
     "text": [
      "Epoch 1/32\n",
      "840/840 [==============================] - 3s 2ms/step - loss: -28.2841 - accuracy: 0.1118\n",
      "Epoch 2/32\n",
      "840/840 [==============================] - 2s 2ms/step - loss: -28.4202 - accuracy: 0.1115\n",
      "Epoch 3/32\n",
      "840/840 [==============================] - 2s 2ms/step - loss: -28.4202 - accuracy: 0.1115\n",
      "Epoch 4/32\n",
      "840/840 [==============================] - 2s 2ms/step - loss: -28.4203 - accuracy: 0.1115\n",
      "Epoch 5/32\n",
      "840/840 [==============================] - 2s 2ms/step - loss: -28.4202 - accuracy: 0.1115\n",
      "Epoch 6/32\n",
      "840/840 [==============================] - 2s 2ms/step - loss: -28.4202 - accuracy: 0.1115\n",
      "Epoch 7/32\n",
      "840/840 [==============================] - 2s 2ms/step - loss: -28.4202 - accuracy: 0.1115\n",
      "Epoch 8/32\n",
      "840/840 [==============================] - 2s 2ms/step - loss: -28.4203 - accuracy: 0.1115\n",
      "Epoch 9/32\n",
      "840/840 [==============================] - 2s 2ms/step - loss: -28.4202 - accuracy: 0.1115\n",
      "Epoch 10/32\n",
      "840/840 [==============================] - 2s 2ms/step - loss: -28.4203 - accuracy: 0.1115\n",
      "Epoch 11/32\n",
      "840/840 [==============================] - 2s 2ms/step - loss: -28.4203 - accuracy: 0.1115\n",
      "Epoch 12/32\n",
      "840/840 [==============================] - 2s 2ms/step - loss: -28.4202 - accuracy: 0.1115\n",
      "Epoch 13/32\n",
      "840/840 [==============================] - 2s 2ms/step - loss: -28.4202 - accuracy: 0.1115\n",
      "Epoch 14/32\n",
      "840/840 [==============================] - 2s 2ms/step - loss: -28.4202 - accuracy: 0.1115\n",
      "Epoch 15/32\n",
      "840/840 [==============================] - 2s 2ms/step - loss: -28.4202 - accuracy: 0.1115\n",
      "Epoch 16/32\n",
      "840/840 [==============================] - 2s 2ms/step - loss: -28.4202 - accuracy: 0.1115\n",
      "Epoch 17/32\n",
      "840/840 [==============================] - 2s 2ms/step - loss: -28.4203 - accuracy: 0.1115\n",
      "Epoch 18/32\n",
      "840/840 [==============================] - 2s 2ms/step - loss: -28.4202 - accuracy: 0.1115\n",
      "Epoch 19/32\n",
      "840/840 [==============================] - 2s 2ms/step - loss: -28.4202 - accuracy: 0.1115\n",
      "Epoch 20/32\n",
      "840/840 [==============================] - 2s 2ms/step - loss: -28.4202 - accuracy: 0.1115\n",
      "Epoch 21/32\n",
      "840/840 [==============================] - 2s 2ms/step - loss: -28.4202 - accuracy: 0.1115\n",
      "Epoch 22/32\n",
      "840/840 [==============================] - 2s 2ms/step - loss: -28.4202 - accuracy: 0.1115\n",
      "Epoch 23/32\n",
      "840/840 [==============================] - 2s 2ms/step - loss: -28.4202 - accuracy: 0.1115\n",
      "Epoch 24/32\n",
      "840/840 [==============================] - 2s 3ms/step - loss: -28.4202 - accuracy: 0.1115\n",
      "Epoch 25/32\n",
      "840/840 [==============================] - 2s 2ms/step - loss: -28.4202 - accuracy: 0.1115\n",
      "Epoch 26/32\n",
      "840/840 [==============================] - 2s 2ms/step - loss: -28.4202 - accuracy: 0.1115\n",
      "Epoch 27/32\n",
      "840/840 [==============================] - 2s 2ms/step - loss: -28.4203 - accuracy: 0.1115\n",
      "Epoch 28/32\n",
      "840/840 [==============================] - 2s 2ms/step - loss: -28.4202 - accuracy: 0.1115\n",
      "Epoch 29/32\n",
      "840/840 [==============================] - 2s 2ms/step - loss: -28.4202 - accuracy: 0.1115\n",
      "Epoch 30/32\n",
      "840/840 [==============================] - 2s 2ms/step - loss: -28.4203 - accuracy: 0.1115\n",
      "Epoch 31/32\n",
      "840/840 [==============================] - 2s 3ms/step - loss: -28.4202 - accuracy: 0.1115\n",
      "Epoch 32/32\n",
      "840/840 [==============================] - 2s 2ms/step - loss: -28.4202 - accuracy: 0.1115\n"
     ]
    },
    {
     "data": {
      "text/plain": [
       "<keras.callbacks.History at 0x289619bc490>"
      ]
     },
     "execution_count": 30,
     "metadata": {},
     "output_type": "execute_result"
    }
   ],
   "source": [
    "model.fit(X_train,Y_train.values,epochs = 32,batch_size = 50)"
   ]
  },
  {
   "cell_type": "code",
   "execution_count": null,
   "id": "987f645d-d682-40bf-8678-6542d826174b",
   "metadata": {},
   "outputs": [],
   "source": []
  }
 ],
 "metadata": {
  "kernelspec": {
   "display_name": "Python 3 (ipykernel)",
   "language": "python",
   "name": "python3"
  },
  "language_info": {
   "codemirror_mode": {
    "name": "ipython",
    "version": 3
   },
   "file_extension": ".py",
   "mimetype": "text/x-python",
   "name": "python",
   "nbconvert_exporter": "python",
   "pygments_lexer": "ipython3",
   "version": "3.9.18"
  }
 },
 "nbformat": 4,
 "nbformat_minor": 5
}
